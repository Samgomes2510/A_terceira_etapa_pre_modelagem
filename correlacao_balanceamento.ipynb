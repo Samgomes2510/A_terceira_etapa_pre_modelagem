{
  "nbformat": 4,
  "nbformat_minor": 0,
  "metadata": {
    "colab": {
      "provenance": [],
      "authorship_tag": "ABX9TyOUQN/VWWC99clUjIDVT7Zm",
      "include_colab_link": true
    },
    "kernelspec": {
      "name": "python3",
      "display_name": "Python 3"
    },
    "language_info": {
      "name": "python"
    }
  },
  "cells": [
    {
      "cell_type": "markdown",
      "metadata": {
        "id": "view-in-github",
        "colab_type": "text"
      },
      "source": [
        "<a href=\"https://colab.research.google.com/github/Samgomes2510/A_terceira_etapa_pre_modelagem/blob/main/correlacao_balanceamento.ipynb\" target=\"_parent\"><img src=\"https://colab.research.google.com/assets/colab-badge.svg\" alt=\"Open In Colab\"/></a>"
      ]
    },
    {
      "cell_type": "code",
      "execution_count": null,
      "metadata": {
        "id": "yJl2UNY4T8fX"
      },
      "outputs": [],
      "source": [
        "!pip install pandas"
      ]
    },
    {
      "cell_type": "code",
      "source": [
        "!pip install numpy"
      ],
      "metadata": {
        "id": "OLLSUNfUU1SC"
      },
      "execution_count": null,
      "outputs": []
    },
    {
      "cell_type": "code",
      "source": [
        "!pip install seaborn"
      ],
      "metadata": {
        "id": "ff-uaP6hVRbb"
      },
      "execution_count": null,
      "outputs": []
    },
    {
      "cell_type": "code",
      "source": [
        "!pip install matplotlib"
      ],
      "metadata": {
        "id": "0GvpYq8qVZKN"
      },
      "execution_count": null,
      "outputs": []
    },
    {
      "cell_type": "code",
      "source": [
        "!pip install sklearn"
      ],
      "metadata": {
        "id": "Y6oea6o4Vdwf"
      },
      "execution_count": null,
      "outputs": []
    },
    {
      "cell_type": "code",
      "source": [
        "import pandas as pd\n",
        "import numpy as np\n",
        "import seaborn as sns\n",
        "import matplotlib.pyplot as plt\n",
        "from sklearn.model_selection import train_test_split\n",
        "from sklearn.linear_model import LinearRegression\n",
        "from sklearn.metrics import mean_squared_error, r2_score"
      ],
      "metadata": {
        "id": "mknj8fjsVonD"
      },
      "execution_count": null,
      "outputs": []
    },
    {
      "cell_type": "code",
      "source": [
        "df = pd.read_csv(\"CHURN_CREDIT_MOD08_PART3.csv\", delimiter=',')\n",
        "\n",
        "df.head(10)"
      ],
      "metadata": {
        "id": "mzfN7RnAVytM"
      },
      "execution_count": null,
      "outputs": []
    },
    {
      "cell_type": "code",
      "source": [
        "# Matriz de Correlação\n",
        "df.select_dtypes(include=['number']).corr()\n"
      ],
      "metadata": {
        "id": "3UECag2NWVYB"
      },
      "execution_count": null,
      "outputs": []
    },
    {
      "cell_type": "code",
      "source": [
        "# Cluster Map\n",
        "correlation_matriz = df.select_dtypes(include=['number']).corr()\n",
        "\n",
        "# Plotar o mapa de calor da matriz de correlação\n",
        "plt.figure(figsize=(10, 8))\n",
        "sns.heatmap(correlation_matriz, annot=True, cmap='coolwarm', fmt=\"2f\", annot_kws={\"size\": 10})\n",
        "plt.title('Matriz de Correlação')\n",
        "plt.show()"
      ],
      "metadata": {
        "id": "aqoogFL2XhHZ"
      },
      "execution_count": null,
      "outputs": []
    },
    {
      "cell_type": "code",
      "source": [
        "from sklearn.preprocessing import LabelEncoder"
      ],
      "metadata": {
        "id": "L56LRu6pY7aX"
      },
      "execution_count": null,
      "outputs": []
    },
    {
      "cell_type": "code",
      "source": [
        "# Criar instancia no LabelEncoder\n",
        "label_encoder = LabelEncoder()\n",
        "\n",
        "# Aplicando o LabelEncoder Para a Coluna \"Genero\"\n",
        "df['Genero_Encoder'] = label_encoder.fit_transform(df['Genero'])\n",
        "\n",
        "# Aplicando o One Hot Para a Coluna \"Pais\" nesse caso não Criamos instância\n",
        "df = pd.get_dummies(df, columns=['Pais'], prefix=['Pais'], drop_first=True)\n",
        "\n",
        "print(df)"
      ],
      "metadata": {
        "id": "H3ISW89EZYfo"
      },
      "execution_count": null,
      "outputs": []
    },
    {
      "cell_type": "code",
      "source": [
        "# Vamos Dropar as colunas com os atributos categorias\n",
        "#df = df.drop(['Genero'], axis=1)\n",
        "print(df)"
      ],
      "metadata": {
        "id": "tLVmHSWWakfO"
      },
      "execution_count": null,
      "outputs": []
    },
    {
      "cell_type": "code",
      "source": [
        "# Separar os dados em features(x) e o alvo(y)\n",
        "x = df.drop('Churn', axis=1)\n",
        "y = df['Churn']\n"
      ],
      "metadata": {
        "id": "Tm9289abnBeq"
      },
      "execution_count": null,
      "outputs": []
    },
    {
      "cell_type": "code",
      "source": [
        "from sklearn.model_selection import train_test_split"
      ],
      "metadata": {
        "id": "3-LcOPWWnmlt"
      },
      "execution_count": null,
      "outputs": []
    },
    {
      "cell_type": "code",
      "source": [
        "# Separar os dados em conjuntos de treino e teste\n",
        "x_train, x_test, y_train, y_test = train_test_split(x, y, test_size=0.25, random_state=42)\n",
        "# o Parâmetro 'test_size' determina a proporção dos dados que serão separados para teste\n",
        "# O Parâmetro 'random_state' é usado para garantir que a divisão seja reproduzivel\n"
      ],
      "metadata": {
        "id": "z8XE61KYnt9N"
      },
      "execution_count": null,
      "outputs": []
    },
    {
      "cell_type": "code",
      "source": [
        "x_train"
      ],
      "metadata": {
        "id": "6erFILBlofV_"
      },
      "execution_count": null,
      "outputs": []
    },
    {
      "cell_type": "code",
      "source": [
        "x_test"
      ],
      "metadata": {
        "id": "oDf4Wy8cojMW"
      },
      "execution_count": null,
      "outputs": []
    },
    {
      "cell_type": "code",
      "source": [
        "y_train"
      ],
      "metadata": {
        "id": "cHdqCZoGomdo"
      },
      "execution_count": null,
      "outputs": []
    },
    {
      "cell_type": "code",
      "source": [
        "y_test"
      ],
      "metadata": {
        "id": "s99YgcwVopjX"
      },
      "execution_count": null,
      "outputs": []
    },
    {
      "cell_type": "markdown",
      "source": [
        "# **Balanceamento de Dados Smote**"
      ],
      "metadata": {
        "id": "Mr_iaoBVqO3P"
      }
    },
    {
      "cell_type": "code",
      "source": [
        "churn_counts = df['Churn'].value_counts()\n",
        "plt.figure(figsize=(8, 6))\n",
        "churn_counts.plot(kind='bar', color=['blue', 'orange'])"
      ],
      "metadata": {
        "id": "utmJYt6OqMAG"
      },
      "execution_count": null,
      "outputs": []
    },
    {
      "cell_type": "code",
      "source": [
        "# Calcular e imprimir as porcentagens dos valores na coluna 'Churn'\n",
        "print((df['Churn'].value_counts(normalize=True) * 100 ))"
      ],
      "metadata": {
        "id": "XEZw3Gi9rN-s"
      },
      "execution_count": null,
      "outputs": []
    },
    {
      "cell_type": "code",
      "source": [
        "!pip install imblearn"
      ],
      "metadata": {
        "id": "oX28PQqJt4zT"
      },
      "execution_count": null,
      "outputs": []
    },
    {
      "cell_type": "code",
      "source": [
        "from imblearn.over_sampling import SMOTE\n",
        "\n",
        "# Criar uma instância do SMOTE\n",
        "smote = SMOTE(random_state=42)\n",
        "\n",
        "# Aplicar o SMOTE aos dados de treinamento(X_train, Y_Train)\n",
        "x_train_balanced, y_train_balanced = smote.fit_resample(x_train, y_train)\n",
        "\n",
        "# Verificar a distribuição das classes após o balanceamento\n",
        "print(\"Distribuição das classes após o balanceamento:\")\n",
        "print(y_train_balanced.value_counts())\n"
      ],
      "metadata": {
        "id": "_nYz3UTHtxqv"
      },
      "execution_count": null,
      "outputs": []
    },
    {
      "cell_type": "code",
      "source": [
        "train_balance = y_train_balanced.value_counts()\n",
        "print(\"Balanceamento em y_train:\")\n",
        "print(train_balance)"
      ],
      "metadata": {
        "id": "BuQkRN0gvfxM"
      },
      "execution_count": null,
      "outputs": []
    },
    {
      "cell_type": "code",
      "source": [
        "y_train_balanced.to_csv('y_train_balanced.csv', index=False)"
      ],
      "metadata": {
        "id": "rukozwcAwOE3"
      },
      "execution_count": null,
      "outputs": []
    },
    {
      "cell_type": "code",
      "source": [
        "x_train_balanced.to_csv('x_train_balanced.csv', index=False)"
      ],
      "metadata": {
        "id": "llRFzqzBxBaQ"
      },
      "execution_count": null,
      "outputs": []
    },
    {
      "cell_type": "code",
      "source": [
        "y_test.to_csv('y_test.csv', index=False)"
      ],
      "metadata": {
        "id": "QFUFdmvPxInd"
      },
      "execution_count": null,
      "outputs": []
    },
    {
      "cell_type": "code",
      "source": [
        "x_test.to_csv('x_test.csv', index=False)"
      ],
      "metadata": {
        "id": "4G_jCcdjxPhb"
      },
      "execution_count": null,
      "outputs": []
    }
  ]
}